{
 "cells": [
  {
   "cell_type": "code",
   "execution_count": 1,
   "id": "a976b1f6-d431-40c1-bcad-cd831b477b23",
   "metadata": {
    "execution": {
     "iopub.execute_input": "2024-08-21T11:13:02.397271Z",
     "iopub.status.busy": "2024-08-21T11:13:02.396943Z",
     "iopub.status.idle": "2024-08-21T11:13:03.509738Z",
     "shell.execute_reply": "2024-08-21T11:13:03.509416Z",
     "shell.execute_reply.started": "2024-08-21T11:13:02.397252Z"
    }
   },
   "outputs": [],
   "source": [
    "import torch\n",
    "import torch.nn.functional as F\n",
    "import matplotlib.pyplot as plt # for making figures\n",
    "%matplotlib inline"
   ]
  },
  {
   "cell_type": "code",
   "execution_count": 2,
   "id": "616c4ff9-a4b7-458e-ba05-2a957b528008",
   "metadata": {
    "execution": {
     "iopub.execute_input": "2024-08-21T11:13:08.870729Z",
     "iopub.status.busy": "2024-08-21T11:13:08.870345Z",
     "iopub.status.idle": "2024-08-21T11:13:08.875613Z",
     "shell.execute_reply": "2024-08-21T11:13:08.875317Z",
     "shell.execute_reply.started": "2024-08-21T11:13:08.870716Z"
    }
   },
   "outputs": [
    {
     "name": "stdout",
     "output_type": "stream",
     "text": [
      "32033\n",
      "15\n",
      "['emma', 'olivia', 'ava', 'isabella', 'sophia', 'charlotte', 'mia', 'amelia']\n"
     ]
    }
   ],
   "source": [
    "# read in all the words\n",
    "words = open('names.txt', 'r').read().splitlines()\n",
    "print(len(words))\n",
    "print(max(len(w) for w in words))\n",
    "print(words[:8])"
   ]
  },
  {
   "cell_type": "code",
   "execution_count": 3,
   "id": "7f25987b-9279-4b36-91bc-e90521d7340b",
   "metadata": {
    "execution": {
     "iopub.execute_input": "2024-08-21T11:13:20.768127Z",
     "iopub.status.busy": "2024-08-21T11:13:20.767913Z",
     "iopub.status.idle": "2024-08-21T11:13:20.771725Z",
     "shell.execute_reply": "2024-08-21T11:13:20.771476Z",
     "shell.execute_reply.started": "2024-08-21T11:13:20.768114Z"
    }
   },
   "outputs": [
    {
     "name": "stdout",
     "output_type": "stream",
     "text": [
      "{1: 'a', 2: 'b', 3: 'c', 4: 'd', 5: 'e', 6: 'f', 7: 'g', 8: 'h', 9: 'i', 10: 'j', 11: 'k', 12: 'l', 13: 'm', 14: 'n', 15: 'o', 16: 'p', 17: 'q', 18: 'r', 19: 's', 20: 't', 21: 'u', 22: 'v', 23: 'w', 24: 'x', 25: 'y', 26: 'z', 0: '.'}\n",
      "27\n"
     ]
    }
   ],
   "source": [
    "# build the vocabulary of characters and mappings to/from integers\n",
    "chars = sorted(list(set(''.join(words))))\n",
    "stoi = {s:i+1 for i,s in enumerate(chars)}\n",
    "stoi['.'] = 0\n",
    "itos = {i:s for s,i in stoi.items()}\n",
    "vocab_size = len(itos)\n",
    "print(itos)\n",
    "print(vocab_size)"
   ]
  },
  {
   "cell_type": "code",
   "execution_count": 5,
   "id": "b3ce6ef9-43d4-436c-b093-e63e76a940a7",
   "metadata": {
    "execution": {
     "iopub.execute_input": "2024-08-21T11:13:36.768512Z",
     "iopub.status.busy": "2024-08-21T11:13:36.768348Z",
     "iopub.status.idle": "2024-08-21T11:13:36.777914Z",
     "shell.execute_reply": "2024-08-21T11:13:36.777655Z",
     "shell.execute_reply.started": "2024-08-21T11:13:36.768501Z"
    }
   },
   "outputs": [],
   "source": [
    "# shuffle up the words\n",
    "import random\n",
    "random.seed(42)\n",
    "random.shuffle(words)"
   ]
  },
  {
   "cell_type": "code",
   "execution_count": 6,
   "id": "d55a7a69-2d31-4946-8daf-1e13e6134c16",
   "metadata": {
    "execution": {
     "iopub.execute_input": "2024-08-21T11:13:48.717846Z",
     "iopub.status.busy": "2024-08-21T11:13:48.717570Z",
     "iopub.status.idle": "2024-08-21T11:13:49.075532Z",
     "shell.execute_reply": "2024-08-21T11:13:49.075196Z",
     "shell.execute_reply.started": "2024-08-21T11:13:48.717828Z"
    }
   },
   "outputs": [
    {
     "name": "stdout",
     "output_type": "stream",
     "text": [
      "torch.Size([182580, 8]) torch.Size([182580])\n",
      "torch.Size([22767, 8]) torch.Size([22767])\n",
      "torch.Size([22799, 8]) torch.Size([22799])\n"
     ]
    }
   ],
   "source": [
    "# build the dataset\n",
    "block_size = 8 # context length: how many characters do we take to predict the next one?\n",
    "\n",
    "def build_dataset(words):  \n",
    "  X, Y = [], []\n",
    "  \n",
    "  for w in words:\n",
    "    context = [0] * block_size\n",
    "    for ch in w + '.':\n",
    "      ix = stoi[ch]\n",
    "      X.append(context)\n",
    "      Y.append(ix)\n",
    "      context = context[1:] + [ix] # crop and append\n",
    "\n",
    "  X = torch.tensor(X)\n",
    "  Y = torch.tensor(Y)\n",
    "  print(X.shape, Y.shape)\n",
    "  return X, Y\n",
    "\n",
    "n1 = int(0.8*len(words))\n",
    "n2 = int(0.9*len(words))\n",
    "Xtr,  Ytr  = build_dataset(words[:n1])     # 80%\n",
    "Xdev, Ydev = build_dataset(words[n1:n2])   # 10%\n",
    "Xte,  Yte  = build_dataset(words[n2:])     # 10%"
   ]
  },
  {
   "cell_type": "code",
   "execution_count": 7,
   "id": "ccbe52e5-b007-4010-bc0b-72749b7d3533",
   "metadata": {
    "execution": {
     "iopub.execute_input": "2024-08-21T11:14:02.533512Z",
     "iopub.status.busy": "2024-08-21T11:14:02.533077Z",
     "iopub.status.idle": "2024-08-21T11:14:02.538893Z",
     "shell.execute_reply": "2024-08-21T11:14:02.538559Z",
     "shell.execute_reply.started": "2024-08-21T11:14:02.533495Z"
    }
   },
   "outputs": [
    {
     "name": "stdout",
     "output_type": "stream",
     "text": [
      "........ --> e\n",
      ".......e --> b\n",
      "......eb --> r\n",
      ".....ebr --> i\n",
      "....ebri --> m\n",
      "...ebrim --> a\n",
      "..ebrima --> .\n",
      "........ --> h\n",
      ".......h --> i\n",
      "......hi --> l\n",
      ".....hil --> t\n",
      "....hilt --> o\n",
      "...hilto --> n\n",
      "..hilton --> .\n",
      "........ --> j\n",
      ".......j --> h\n",
      "......jh --> e\n",
      ".....jhe --> n\n",
      "....jhen --> e\n",
      "...jhene --> .\n"
     ]
    }
   ],
   "source": [
    "for x,y in zip(Xtr[:20], Ytr[:20]):\n",
    "  print(''.join(itos[ix.item()] for ix in x), '-->', itos[y.item()])"
   ]
  },
  {
   "cell_type": "code",
   "execution_count": 8,
   "id": "ecc62fea-5238-48c2-bb78-e2557ee5d7d7",
   "metadata": {
    "execution": {
     "iopub.execute_input": "2024-08-21T11:15:16.796149Z",
     "iopub.status.busy": "2024-08-21T11:15:16.795758Z",
     "iopub.status.idle": "2024-08-21T11:15:16.804254Z",
     "shell.execute_reply": "2024-08-21T11:15:16.804018Z",
     "shell.execute_reply.started": "2024-08-21T11:15:16.796133Z"
    }
   },
   "outputs": [],
   "source": [
    "# -----------------------------------------------------------------------------------------------\n",
    "class Linear:\n",
    "  \n",
    "  def __init__(self, fan_in, fan_out, bias=True):\n",
    "    self.weight = torch.randn((fan_in, fan_out)) / fan_in**0.5 # note: kaiming init\n",
    "    self.bias = torch.zeros(fan_out) if bias else None\n",
    "  \n",
    "  def __call__(self, x):\n",
    "    self.out = x @ self.weight\n",
    "    if self.bias is not None:\n",
    "      self.out += self.bias\n",
    "    return self.out\n",
    "  \n",
    "  def parameters(self):\n",
    "    return [self.weight] + ([] if self.bias is None else [self.bias])\n",
    "\n",
    "# -----------------------------------------------------------------------------------------------\n",
    "class BatchNorm1d:\n",
    "  \n",
    "  def __init__(self, dim, eps=1e-5, momentum=0.1):\n",
    "    self.eps = eps\n",
    "    self.momentum = momentum\n",
    "    self.training = True\n",
    "    # parameters (trained with backprop)\n",
    "    self.gamma = torch.ones(dim)\n",
    "    self.beta = torch.zeros(dim)\n",
    "    # buffers (trained with a running 'momentum update')\n",
    "    self.running_mean = torch.zeros(dim)\n",
    "    self.running_var = torch.ones(dim)\n",
    "  \n",
    "  def __call__(self, x):\n",
    "    # calculate the forward pass\n",
    "    if self.training:\n",
    "      if x.ndim == 2:\n",
    "        dim = 0\n",
    "      elif x.ndim == 3:\n",
    "        dim = (0,1)\n",
    "      xmean = x.mean(dim, keepdim=True) # batch mean\n",
    "      xvar = x.var(dim, keepdim=True) # batch variance\n",
    "    else:\n",
    "      xmean = self.running_mean\n",
    "      xvar = self.running_var\n",
    "    xhat = (x - xmean) / torch.sqrt(xvar + self.eps) # normalize to unit variance\n",
    "    self.out = self.gamma * xhat + self.beta\n",
    "    # update the buffers\n",
    "    if self.training:\n",
    "      with torch.no_grad():\n",
    "        self.running_mean = (1 - self.momentum) * self.running_mean + self.momentum * xmean\n",
    "        self.running_var = (1 - self.momentum) * self.running_var + self.momentum * xvar\n",
    "    return self.out\n",
    "  \n",
    "  def parameters(self):\n",
    "    return [self.gamma, self.beta]\n",
    "\n",
    "# -----------------------------------------------------------------------------------------------\n",
    "class Tanh:\n",
    "  def __call__(self, x):\n",
    "    self.out = torch.tanh(x)\n",
    "    return self.out\n",
    "  def parameters(self):\n",
    "    return []\n",
    "\n",
    "# -----------------------------------------------------------------------------------------------\n",
    "class Embedding:\n",
    "  \n",
    "  def __init__(self, num_embeddings, embedding_dim):\n",
    "    self.weight = torch.randn((num_embeddings, embedding_dim))\n",
    "    \n",
    "  def __call__(self, IX):\n",
    "    self.out = self.weight[IX]\n",
    "    return self.out\n",
    "  \n",
    "  def parameters(self):\n",
    "    return [self.weight]\n",
    "\n",
    "# -----------------------------------------------------------------------------------------------\n",
    "class FlattenConsecutive:\n",
    "  \n",
    "  def __init__(self, n):\n",
    "    self.n = n\n",
    "    \n",
    "  def __call__(self, x):\n",
    "    B, T, C = x.shape\n",
    "    x = x.view(B, T//self.n, C*self.n)\n",
    "    if x.shape[1] == 1:\n",
    "      x = x.squeeze(1)\n",
    "    self.out = x\n",
    "    return self.out\n",
    "  \n",
    "  def parameters(self):\n",
    "    return []\n",
    "\n",
    "# -----------------------------------------------------------------------------------------------\n",
    "class Sequential:\n",
    "  \n",
    "  def __init__(self, layers):\n",
    "    self.layers = layers\n",
    "  \n",
    "  def __call__(self, x):\n",
    "    for layer in self.layers:\n",
    "      x = layer(x)\n",
    "    self.out = x\n",
    "    return self.out\n",
    "  \n",
    "  def parameters(self):\n",
    "    # get parameters of all layers and stretch them out into one list\n",
    "    return [p for layer in self.layers for p in layer.parameters()]"
   ]
  },
  {
   "cell_type": "code",
   "execution_count": 9,
   "id": "726cd8e4-ef9b-4c71-9d63-d3de59fcc522",
   "metadata": {
    "execution": {
     "iopub.execute_input": "2024-08-21T11:15:44.424184Z",
     "iopub.status.busy": "2024-08-21T11:15:44.423964Z",
     "iopub.status.idle": "2024-08-21T11:15:44.429191Z",
     "shell.execute_reply": "2024-08-21T11:15:44.428868Z",
     "shell.execute_reply.started": "2024-08-21T11:15:44.424160Z"
    }
   },
   "outputs": [],
   "source": [
    "torch.manual_seed(42); # seed rng for reproducibility"
   ]
  },
  {
   "cell_type": "code",
   "execution_count": 10,
   "id": "3bbc3190-de0f-48ce-b916-8fda50469d05",
   "metadata": {
    "execution": {
     "iopub.execute_input": "2024-08-21T11:15:57.271554Z",
     "iopub.status.busy": "2024-08-21T11:15:57.271277Z",
     "iopub.status.idle": "2024-08-21T11:15:57.277805Z",
     "shell.execute_reply": "2024-08-21T11:15:57.277474Z",
     "shell.execute_reply.started": "2024-08-21T11:15:57.271537Z"
    }
   },
   "outputs": [
    {
     "name": "stdout",
     "output_type": "stream",
     "text": [
      "76579\n"
     ]
    }
   ],
   "source": [
    "# original network\n",
    "# n_embd = 10 # the dimensionality of the character embedding vectors\n",
    "# n_hidden = 300 # the number of neurons in the hidden layer of the MLP\n",
    "# model = Sequential([\n",
    "#   Embedding(vocab_size, n_embd),\n",
    "#   FlattenConsecutive(8), Linear(n_embd * 8, n_hidden, bias=False), BatchNorm1d(n_hidden), Tanh(),\n",
    "#   Linear(n_hidden, vocab_size),\n",
    "# ])\n",
    "\n",
    "# hierarchical network\n",
    "n_embd = 24 # the dimensionality of the character embedding vectors\n",
    "n_hidden = 128 # the number of neurons in the hidden layer of the MLP\n",
    "model = Sequential([\n",
    "  Embedding(vocab_size, n_embd),\n",
    "  FlattenConsecutive(2), Linear(n_embd * 2, n_hidden, bias=False), BatchNorm1d(n_hidden), Tanh(),\n",
    "  FlattenConsecutive(2), Linear(n_hidden*2, n_hidden, bias=False), BatchNorm1d(n_hidden), Tanh(),\n",
    "  FlattenConsecutive(2), Linear(n_hidden*2, n_hidden, bias=False), BatchNorm1d(n_hidden), Tanh(),\n",
    "  Linear(n_hidden, vocab_size),\n",
    "])\n",
    "\n",
    "# parameter init\n",
    "with torch.no_grad():\n",
    "  model.layers[-1].weight *= 0.1 # last layer make less confident\n",
    "\n",
    "parameters = model.parameters()\n",
    "print(sum(p.nelement() for p in parameters)) # number of parameters in total\n",
    "for p in parameters:\n",
    "  p.requires_grad = True"
   ]
  },
  {
   "cell_type": "code",
   "execution_count": 11,
   "id": "f3c19719-1e24-416d-a1ca-445e24c72f13",
   "metadata": {
    "execution": {
     "iopub.execute_input": "2024-08-21T11:16:19.093657Z",
     "iopub.status.busy": "2024-08-21T11:16:19.093427Z",
     "iopub.status.idle": "2024-08-21T11:19:15.747884Z",
     "shell.execute_reply": "2024-08-21T11:19:15.747569Z",
     "shell.execute_reply.started": "2024-08-21T11:16:19.093644Z"
    }
   },
   "outputs": [
    {
     "name": "stdout",
     "output_type": "stream",
     "text": [
      "      0/ 200000: 3.3088\n",
      "  10000/ 200000: 2.4522\n",
      "  20000/ 200000: 2.1598\n",
      "  30000/ 200000: 2.6426\n",
      "  40000/ 200000: 1.8248\n",
      "  50000/ 200000: 2.5059\n",
      "  60000/ 200000: 2.1407\n",
      "  70000/ 200000: 1.8225\n",
      "  80000/ 200000: 2.0721\n",
      "  90000/ 200000: 1.7829\n",
      " 100000/ 200000: 2.0265\n",
      " 110000/ 200000: 2.0252\n",
      " 120000/ 200000: 1.8361\n",
      " 130000/ 200000: 1.8880\n",
      " 140000/ 200000: 1.7401\n",
      " 150000/ 200000: 1.9735\n",
      " 160000/ 200000: 1.7228\n",
      " 170000/ 200000: 1.9166\n",
      " 180000/ 200000: 2.3637\n",
      " 190000/ 200000: 1.7630\n"
     ]
    }
   ],
   "source": [
    "# same optimization as last time\n",
    "max_steps = 200000\n",
    "batch_size = 32\n",
    "lossi = []\n",
    "\n",
    "for i in range(max_steps):\n",
    "  \n",
    "  # minibatch construct\n",
    "  ix = torch.randint(0, Xtr.shape[0], (batch_size,))\n",
    "  Xb, Yb = Xtr[ix], Ytr[ix] # batch X,Y\n",
    "  \n",
    "  # forward pass\n",
    "  logits = model(Xb)\n",
    "  loss = F.cross_entropy(logits, Yb) # loss function\n",
    "  \n",
    "  # backward pass\n",
    "  for p in parameters:\n",
    "    p.grad = None\n",
    "  loss.backward()\n",
    "  \n",
    "  # update: simple SGD\n",
    "  lr = 0.1 if i < 150000 else 0.01 # step learning rate decay\n",
    "  for p in parameters:\n",
    "    p.data += -lr * p.grad\n",
    "\n",
    "  # track stats\n",
    "  if i % 10000 == 0: # print every once in a while\n",
    "    print(f'{i:7d}/{max_steps:7d}: {loss.item():.4f}')\n",
    "  lossi.append(loss.log10().item())"
   ]
  },
  {
   "cell_type": "code",
   "execution_count": 12,
   "id": "d4b66a7a-1c2a-44b6-94a6-e5348b3f495a",
   "metadata": {
    "execution": {
     "iopub.execute_input": "2024-08-21T11:19:15.748534Z",
     "iopub.status.busy": "2024-08-21T11:19:15.748435Z",
     "iopub.status.idle": "2024-08-21T11:19:15.823083Z",
     "shell.execute_reply": "2024-08-21T11:19:15.822771Z",
     "shell.execute_reply.started": "2024-08-21T11:19:15.748524Z"
    }
   },
   "outputs": [
    {
     "data": {
      "text/plain": [
       "[<matplotlib.lines.Line2D at 0x7f56cfba6650>]"
      ]
     },
     "execution_count": 12,
     "metadata": {},
     "output_type": "execute_result"
    },
    {
     "data": {
      "image/png": "[encoded data removed]",
      "text/plain": [
       "<Figure size 640x480 with 1 Axes>"
      ]
     },
     "metadata": {},
     "output_type": "display_data"
    }
   ],
   "source": [
    "plt.plot(torch.tensor(lossi).view(-1, 1000).mean(1))"
   ]
  },
  {
   "cell_type": "code",
   "execution_count": 13,
   "id": "fd4f04ba-52ba-448e-b305-d697dfb3c080",
   "metadata": {
    "execution": {
     "iopub.execute_input": "2024-08-21T11:19:15.823573Z",
     "iopub.status.busy": "2024-08-21T11:19:15.823482Z",
     "iopub.status.idle": "2024-08-21T11:19:15.825679Z",
     "shell.execute_reply": "2024-08-21T11:19:15.825298Z",
     "shell.execute_reply.started": "2024-08-21T11:19:15.823564Z"
    }
   },
   "outputs": [],
   "source": [
    "# put layers into eval mode (needed for batchnorm especially)\n",
    "for layer in model.layers:\n",
    "  layer.training = False"
   ]
  },
  {
   "cell_type": "code",
   "execution_count": 14,
   "id": "4704076c-7f7f-412a-b838-5f34d75e49b7",
   "metadata": {
    "execution": {
     "iopub.execute_input": "2024-08-21T11:19:15.826365Z",
     "iopub.status.busy": "2024-08-21T11:19:15.826190Z",
     "iopub.status.idle": "2024-08-21T11:19:16.683709Z",
     "shell.execute_reply": "2024-08-21T11:19:16.683358Z",
     "shell.execute_reply.started": "2024-08-21T11:19:15.826353Z"
    }
   },
   "outputs": [
    {
     "name": "stdout",
     "output_type": "stream",
     "text": [
      "train 1.7669143676757812\n",
      "val 1.984461784362793\n"
     ]
    }
   ],
   "source": [
    "# evaluate the loss\n",
    "@torch.no_grad() # this decorator disables gradient tracking inside pytorch\n",
    "def split_loss(split):\n",
    "  x,y = {\n",
    "    'train': (Xtr, Ytr),\n",
    "    'val': (Xdev, Ydev),\n",
    "    'test': (Xte, Yte),\n",
    "  }[split]\n",
    "  logits = model(x)\n",
    "  loss = F.cross_entropy(logits, y)\n",
    "  print(split, loss.item())\n",
    "\n",
    "split_loss('train')\n",
    "split_loss('val')"
   ]
  },
  {
   "cell_type": "code",
   "execution_count": 15,
   "id": "7c384d4a-e7b1-4cc7-8d1a-8734476d1601",
   "metadata": {
    "execution": {
     "iopub.execute_input": "2024-08-21T11:19:16.684251Z",
     "iopub.status.busy": "2024-08-21T11:19:16.684149Z",
     "iopub.status.idle": "2024-08-21T11:19:16.724356Z",
     "shell.execute_reply": "2024-08-21T11:19:16.723874Z",
     "shell.execute_reply.started": "2024-08-21T11:19:16.684241Z"
    }
   },
   "outputs": [
    {
     "name": "stdout",
     "output_type": "stream",
     "text": [
      "aiyana.\n",
      "yaius.\n",
      "kenzlei.\n",
      "solta.\n",
      "rayna.\n",
      "tiern.\n",
      "reaghan.\n",
      "jedmitel.\n",
      "kalani.\n",
      "ndalynn.\n",
      "rosealynn.\n",
      "nicolesuca.\n",
      "edinper.\n",
      "montavrai.\n",
      "shiloha.\n",
      "cosmagla.\n",
      "aiese.\n",
      "macky.\n",
      "reneed.\n",
      "step.\n"
     ]
    }
   ],
   "source": [
    "# sample from the model\n",
    "for _ in range(20):\n",
    "    \n",
    "    out = []\n",
    "    context = [0] * block_size # initialize with all ...\n",
    "    while True:\n",
    "      # forward pass the neural net\n",
    "      logits = model(torch.tensor([context]))\n",
    "      probs = F.softmax(logits, dim=1)\n",
    "      # sample from the distribution\n",
    "      ix = torch.multinomial(probs, num_samples=1).item()\n",
    "      # shift the context window and track the samples\n",
    "      context = context[1:] + [ix]\n",
    "      out.append(ix)\n",
    "      # if we sample the special '.' token, break\n",
    "      if ix == 0:\n",
    "        break\n",
    "    \n",
    "    print(''.join(itos[i] for i in out)) # decode and print the generated word"
   ]
  },
  {
   "cell_type": "code",
   "execution_count": null,
   "id": "0d8c6b38-1daf-4bbf-ab45-4986b73416d9",
   "metadata": {},
   "outputs": [],
   "source": []
  }
 ],
 "metadata": {
  "kernelspec": {
   "display_name": "Python 3 (ipykernel)",
   "language": "python",
   "name": "python3"
  },
  "language_info": {
   "codemirror_mode": {
    "name": "ipython",
    "version": 3
   },
   "file_extension": ".py",
   "mimetype": "text/x-python",
   "name": "python",
   "nbconvert_exporter": "python",
   "pygments_lexer": "ipython3",
   "version": "3.10.13"
  }
 },
 "nbformat": 4,
 "nbformat_minor": 5
}
