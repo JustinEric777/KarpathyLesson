{
 "cells": [
  {
   "cell_type": "markdown",
   "id": "99126592-6cdf-44db-b96e-5c2fd963d1af",
   "metadata": {},
   "source": [
    "### 1. Conv1D"
   ]
  },
  {
   "cell_type": "code",
   "execution_count": 10,
   "id": "6cd34259-3d56-4f27-b0a2-5ffde56b51df",
   "metadata": {
    "execution": {
     "iopub.execute_input": "2024-08-27T03:07:52.074854Z",
     "iopub.status.busy": "2024-08-27T03:07:52.074517Z",
     "iopub.status.idle": "2024-08-27T03:07:52.079152Z",
     "shell.execute_reply": "2024-08-27T03:07:52.078928Z",
     "shell.execute_reply.started": "2024-08-27T03:07:52.074839Z"
    }
   },
   "outputs": [
    {
     "name": "stdout",
     "output_type": "stream",
     "text": [
      "tensor([[[ 0.1527,  0.3765],\n",
      "         [-1.7406,  1.2127],\n",
      "         [ 1.0000,  0.2734],\n",
      "         [ 0.5057, -0.5801],\n",
      "         [-1.6769, -0.1542],\n",
      "         [-0.5450, -0.2491],\n",
      "         [ 0.7273,  0.9571],\n",
      "         [-0.2029,  0.8794],\n",
      "         [ 0.7846,  1.6587],\n",
      "         [ 0.6736, -0.4857]]])\n",
      "tensor([[[ 0.1527, -1.7406,  1.0000,  0.5057, -1.6769, -0.5450,  0.7273,\n",
      "          -0.2029,  0.7846,  0.6736],\n",
      "         [ 0.3765,  1.2127,  0.2734, -0.5801, -0.1542, -0.2491,  0.9571,\n",
      "           0.8794,  1.6587, -0.4857]]])\n",
      "tensor([[[-1.0694, -0.4982,  0.5013, -0.3891, -0.7848, -0.4428, -0.4555,\n",
      "          -0.5499],\n",
      "         [ 1.0165, -1.4814,  0.0024,  0.9811,  0.0135,  0.0031,  0.9104,\n",
      "          -0.5174],\n",
      "         [-1.0576,  0.5480,  0.6876, -0.5180, -0.6212, -0.5454, -0.6343,\n",
      "          -0.1134],\n",
      "         [-0.4210, -0.2407,  0.9431, -0.0988, -0.6405,  0.4580,  0.3693,\n",
      "           0.3150]]], grad_fn=<ConvolutionBackward0>)\n",
      "Conv1D 输出形状: torch.Size([1, 4, 8])\n",
      "tensor([[[-1.0694,  1.0165, -1.0576, -0.4210],\n",
      "         [-0.4982, -1.4814,  0.5480, -0.2407],\n",
      "         [ 0.5013,  0.0024,  0.6876,  0.9431],\n",
      "         [-0.3891,  0.9811, -0.5180, -0.0988],\n",
      "         [-0.7848,  0.0135, -0.6212, -0.6405],\n",
      "         [-0.4428,  0.0031, -0.5454,  0.4580],\n",
      "         [-0.4555,  0.9104, -0.6343,  0.3693],\n",
      "         [-0.5499, -0.5174, -0.1134,  0.3150]]], grad_fn=<TransposeBackward0>)\n"
     ]
    }
   ],
   "source": [
    "import torch\n",
    "import torch.nn as nn\n",
    "\n",
    "# 输入序列：batch_size=1, sequence_length=10, input_channels=2\n",
    "input_data = torch.randn(1, 10, 2)\n",
    "print(input_data)\n",
    "\n",
    "# 定义 Conv1D 层：input_channels=2, output_channels=4, kernel_size=3\n",
    "conv1d_layer = nn.Conv1d(in_channels=2, out_channels=4, kernel_size=3)\n",
    "\n",
    "# 转置输入数据的形状以匹配 Conv1D 的输入要求\n",
    "input_data = input_data.permute(0, 2, 1)  # [batch_size, input_channels, sequence_length]\n",
    "print(input_data)\n",
    "\n",
    "# 应用 Conv1D\n",
    "output_data = conv1d_layer(input_data)\n",
    "print(output_data)\n",
    "\n",
    "print(\"Conv1D 输出形状:\", output_data.shape)  # 输出形状: [1, 4, 8]\n",
    "\n",
    "print(output_data.transpose(1, 2))"
   ]
  },
  {
   "cell_type": "markdown",
   "id": "ab61d5bc-4bb5-45fb-9c48-c96d1be94f8a",
   "metadata": {},
   "source": [
    "### 2. Linear"
   ]
  },
  {
   "cell_type": "code",
   "execution_count": 6,
   "id": "f94badc2-92f6-45c4-8c94-38ff2967296a",
   "metadata": {
    "execution": {
     "iopub.execute_input": "2024-08-27T02:55:54.130849Z",
     "iopub.status.busy": "2024-08-27T02:55:54.130549Z",
     "iopub.status.idle": "2024-08-27T02:55:54.134837Z",
     "shell.execute_reply": "2024-08-27T02:55:54.134609Z",
     "shell.execute_reply.started": "2024-08-27T02:55:54.130839Z"
    }
   },
   "outputs": [
    {
     "name": "stdout",
     "output_type": "stream",
     "text": [
      "tensor([[ 0.2343,  1.0328,  0.3631,  0.3492, -1.0601, -0.0025,  0.1716, -1.3771,\n",
      "          0.0853, -1.5605]])\n",
      "tensor([[ 0.5578, -0.1334, -0.3939,  0.4101,  0.2022]],\n",
      "       grad_fn=<AddmmBackward0>)\n",
      "Linear 输出形状: torch.Size([1, 5])\n"
     ]
    }
   ],
   "source": [
    "import torch\n",
    "import torch.nn as nn\n",
    "\n",
    "# 输入数据：batch_size=1, input_features=10\n",
    "input_data = torch.randn(1, 10)\n",
    "print(input_data)\n",
    "\n",
    "# 定义 Linear 层：input_features=10, output_features=5\n",
    "linear_layer = nn.Linear(in_features=10, out_features=5)\n",
    "\n",
    "# 应用 Linear 层\n",
    "output_data = linear_layer(input_data)\n",
    "print(output_data)\n",
    "\n",
    "print(\"Linear 输出形状:\", output_data.shape)  # 输出形状: [1, 5]\n",
    "\n",
    "print(output_data.transpose(0, 1))"
   ]
  },
  {
   "cell_type": "code",
   "execution_count": null,
   "id": "0561b090-a5d7-4bee-ab0d-eb67cbf8fcb8",
   "metadata": {},
   "outputs": [],
   "source": []
  }
 ],
 "metadata": {
  "kernelspec": {
   "display_name": "Python 3 (ipykernel)",
   "language": "python",
   "name": "python3"
  },
  "language_info": {
   "codemirror_mode": {
    "name": "ipython",
    "version": 3
   },
   "file_extension": ".py",
   "mimetype": "text/x-python",
   "name": "python",
   "nbconvert_exporter": "python",
   "pygments_lexer": "ipython3",
   "version": "3.10.13"
  }
 },
 "nbformat": 4,
 "nbformat_minor": 5
}
