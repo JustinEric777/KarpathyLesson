{
 "cells": [
  {
   "cell_type": "code",
   "execution_count": 23,
   "id": "56958ddf-d02e-4554-81c4-314fc1805265",
   "metadata": {
    "execution": {
     "iopub.execute_input": "2024-08-16T06:15:42.571359Z",
     "iopub.status.busy": "2024-08-16T06:15:42.570904Z",
     "iopub.status.idle": "2024-08-16T06:15:42.576048Z",
     "shell.execute_reply": "2024-08-16T06:15:42.575340Z",
     "shell.execute_reply.started": "2024-08-16T06:15:42.571323Z"
    }
   },
   "outputs": [],
   "source": [
    "import torch\n",
    "import torch.nn.functional as F\n",
    "import matplotlib.pyplot as plt\n",
    "%matplotlib inline"
   ]
  },
  {
   "cell_type": "code",
   "execution_count": 11,
   "id": "43e5aa2c-782f-4f5e-9b6e-cb7be4f66e65",
   "metadata": {
    "execution": {
     "iopub.execute_input": "2024-08-16T06:02:01.306566Z",
     "iopub.status.busy": "2024-08-16T06:02:01.306208Z",
     "iopub.status.idle": "2024-08-16T06:02:01.313359Z",
     "shell.execute_reply": "2024-08-16T06:02:01.312789Z",
     "shell.execute_reply.started": "2024-08-16T06:02:01.306549Z"
    }
   },
   "outputs": [
    {
     "name": "stdout",
     "output_type": "stream",
     "text": [
      "['emma', 'olivia', 'ava', 'isabella', 'sophia', 'charlotte', 'mia', 'amelia']\n",
      "32033\n"
     ]
    }
   ],
   "source": [
    "# init data\n",
    "words = open(\"names.txt\", \"r\").read().splitlines()\n",
    "print(words[:8])\n",
    "print(len(words))"
   ]
  },
  {
   "cell_type": "code",
   "execution_count": 12,
   "id": "89ffdf4f-ce72-4db6-9433-e4deddc0a959",
   "metadata": {
    "execution": {
     "iopub.execute_input": "2024-08-16T06:02:02.720883Z",
     "iopub.status.busy": "2024-08-16T06:02:02.720481Z",
     "iopub.status.idle": "2024-08-16T06:02:02.726384Z",
     "shell.execute_reply": "2024-08-16T06:02:02.725960Z",
     "shell.execute_reply.started": "2024-08-16T06:02:02.720866Z"
    }
   },
   "outputs": [
    {
     "name": "stdout",
     "output_type": "stream",
     "text": [
      "{1: 'a', 2: 'b', 3: 'c', 4: 'd', 5: 'e', 6: 'f', 7: 'g', 8: 'h', 9: 'i', 10: 'j', 11: 'k', 12: 'l', 13: 'm', 14: 'n', 15: 'o', 16: 'p', 17: 'q', 18: 'r', 19: 's', 20: 't', 21: 'u', 22: 'v', 23: 'w', 24: 'x', 25: 'y', 26: 'z', 0: '.'}\n"
     ]
    }
   ],
   "source": [
    "# build the vocabulaey of characters and mapping to/from integers\n",
    "chars = sorted(list(set(''.join(words))))\n",
    "stoi = {s:i+1 for i,s in enumerate(chars)}\n",
    "stoi['.'] = 0\n",
    "itos = {i:s for s, i in stoi.items()}\n",
    "print(itos)"
   ]
  },
  {
   "cell_type": "code",
   "execution_count": 17,
   "id": "c2ff9362-13cb-435d-9457-f163b656eeab",
   "metadata": {
    "execution": {
     "iopub.execute_input": "2024-08-16T06:07:16.968594Z",
     "iopub.status.busy": "2024-08-16T06:07:16.968318Z",
     "iopub.status.idle": "2024-08-16T06:07:16.973122Z",
     "shell.execute_reply": "2024-08-16T06:07:16.972644Z",
     "shell.execute_reply.started": "2024-08-16T06:07:16.968581Z"
    }
   },
   "outputs": [
    {
     "name": "stdout",
     "output_type": "stream",
     "text": [
      "emma\n",
      "... ---------> e\n",
      "..e ---------> m\n",
      ".em ---------> m\n",
      "emm ---------> a\n",
      "mma ---------> .\n",
      "olivia\n",
      "... ---------> o\n",
      "..o ---------> l\n",
      ".ol ---------> i\n",
      "oli ---------> v\n",
      "liv ---------> i\n",
      "ivi ---------> a\n",
      "via ---------> .\n",
      "ava\n",
      "... ---------> a\n",
      "..a ---------> v\n",
      ".av ---------> a\n",
      "ava ---------> .\n",
      "isabella\n",
      "... ---------> i\n",
      "..i ---------> s\n",
      ".is ---------> a\n",
      "isa ---------> b\n",
      "sab ---------> e\n",
      "abe ---------> l\n",
      "bel ---------> l\n",
      "ell ---------> a\n",
      "lla ---------> .\n",
      "sophia\n",
      "... ---------> s\n",
      "..s ---------> o\n",
      ".so ---------> p\n",
      "sop ---------> h\n",
      "oph ---------> i\n",
      "phi ---------> a\n",
      "hia ---------> .\n"
     ]
    }
   ],
   "source": [
    "# build the dataset\n",
    "import torch\n",
    "\n",
    "block_size = 3\n",
    "X, Y = [], []\n",
    "for w in words[:5]:\n",
    "    print(w)\n",
    "    context = [0] * block_size\n",
    "    for ch in w + \".\":\n",
    "        ix = stoi[ch]\n",
    "        X.append(context)\n",
    "        Y.append(ix)\n",
    "        print(\"\".join(itos[i] for i in context), \"--------->\", itos[ix])\n",
    "        context = context[1:] + [ix]\n",
    "\n",
    "X = torch.tensor(X)\n",
    "Y = torch.tensor(Y)"
   ]
  },
  {
   "cell_type": "code",
   "execution_count": 135,
   "id": "0071366a-f7a1-4136-b951-f0071b1b3378",
   "metadata": {
    "execution": {
     "iopub.execute_input": "2024-08-19T07:14:21.457766Z",
     "iopub.status.busy": "2024-08-19T07:14:21.457543Z",
     "iopub.status.idle": "2024-08-19T07:14:21.824759Z",
     "shell.execute_reply": "2024-08-19T07:14:21.824445Z",
     "shell.execute_reply.started": "2024-08-19T07:14:21.457751Z"
    }
   },
   "outputs": [
    {
     "name": "stdout",
     "output_type": "stream",
     "text": [
      "torch.Size([182691, 3]) torch.Size([182691])\n",
      "torch.Size([22793, 3]) torch.Size([22793])\n",
      "torch.Size([22662, 3]) torch.Size([22662])\n"
     ]
    }
   ],
   "source": [
    "def build_datasets(words):\n",
    "    block_size = 3\n",
    "    X, Y = [], []\n",
    "    for w in words:\n",
    "        context = [0] * block_size\n",
    "        for ch in w + \".\":\n",
    "            ix = stoi[ch]\n",
    "            X.append(context)\n",
    "            Y.append(ix)\n",
    "            context = context[1:] + [ix]\n",
    "    \n",
    "    X = torch.tensor(X)\n",
    "    Y = torch.tensor(Y)\n",
    "    print(X.shape, Y.shape)\n",
    "    return X, Y\n",
    "\n",
    "import random\n",
    "random.seed(42)\n",
    "random.shuffle(words)\n",
    "n1 = int(0.8 * len(words))\n",
    "n2 = int(0.9 * len(words))\n",
    "\n",
    "train_dataX,  train_dataY = build_datasets(words[:n1])\n",
    "vali_dataX, vali_dataY = build_datasets(words[n1:n2])\n",
    "test_dataX, test_dataY = build_datasets(words[n2:])\n"
   ]
  },
  {
   "cell_type": "code",
   "execution_count": 136,
   "id": "269b8ad5-e297-4a7d-a160-dcd6553e75b0",
   "metadata": {
    "execution": {
     "iopub.execute_input": "2024-08-19T07:14:46.075299Z",
     "iopub.status.busy": "2024-08-19T07:14:46.074933Z",
     "iopub.status.idle": "2024-08-19T07:14:46.080807Z",
     "shell.execute_reply": "2024-08-19T07:14:46.080482Z",
     "shell.execute_reply.started": "2024-08-19T07:14:46.075282Z"
    }
   },
   "outputs": [
    {
     "data": {
      "text/plain": [
       "tensor([ 0.0911, -0.2406])"
      ]
     },
     "execution_count": 136,
     "metadata": {},
     "output_type": "execute_result"
    }
   ],
   "source": [
    "C = torch.randn(27, 2)\n",
    "F.one_hot(torch.tensor(5), num_classes=27).float() @ C"
   ]
  },
  {
   "cell_type": "code",
   "execution_count": 137,
   "id": "2ff14444-b1e8-43ff-b1e6-0f4a4b29114e",
   "metadata": {
    "execution": {
     "iopub.execute_input": "2024-08-19T07:14:46.592107Z",
     "iopub.status.busy": "2024-08-19T07:14:46.591729Z",
     "iopub.status.idle": "2024-08-19T07:14:46.594676Z",
     "shell.execute_reply": "2024-08-19T07:14:46.594373Z",
     "shell.execute_reply.started": "2024-08-19T07:14:46.592089Z"
    }
   },
   "outputs": [
    {
     "data": {
      "text/plain": [
       "torch.Size([32, 3, 2])"
      ]
     },
     "execution_count": 137,
     "metadata": {},
     "output_type": "execute_result"
    }
   ],
   "source": [
    "emb = C[X] \n",
    "emb.shape"
   ]
  },
  {
   "cell_type": "code",
   "execution_count": 138,
   "id": "3611f5fe-5de7-4f11-903c-2aee7e411230",
   "metadata": {
    "execution": {
     "iopub.execute_input": "2024-08-19T07:14:47.098003Z",
     "iopub.status.busy": "2024-08-19T07:14:47.097671Z",
     "iopub.status.idle": "2024-08-19T07:14:47.100037Z",
     "shell.execute_reply": "2024-08-19T07:14:47.099714Z",
     "shell.execute_reply.started": "2024-08-19T07:14:47.097986Z"
    }
   },
   "outputs": [],
   "source": [
    "w1 = torch.randn((6, 100))\n",
    "b1 = torch.randn(100)"
   ]
  },
  {
   "cell_type": "code",
   "execution_count": 139,
   "id": "c320e47f-23c8-4160-89c1-123bb9fa67bc",
   "metadata": {
    "execution": {
     "iopub.execute_input": "2024-08-19T07:14:47.678679Z",
     "iopub.status.busy": "2024-08-19T07:14:47.678319Z",
     "iopub.status.idle": "2024-08-19T07:14:47.684833Z",
     "shell.execute_reply": "2024-08-19T07:14:47.684525Z",
     "shell.execute_reply.started": "2024-08-19T07:14:47.678663Z"
    }
   },
   "outputs": [],
   "source": [
    "h = emb.view(-1, 6) @ w1 + b1"
   ]
  },
  {
   "cell_type": "code",
   "execution_count": 140,
   "id": "21bfcae2-ffd3-4c9f-8dda-bdf462e858c7",
   "metadata": {
    "execution": {
     "iopub.execute_input": "2024-08-19T07:14:48.422564Z",
     "iopub.status.busy": "2024-08-19T07:14:48.422175Z",
     "iopub.status.idle": "2024-08-19T07:14:48.424927Z",
     "shell.execute_reply": "2024-08-19T07:14:48.424636Z",
     "shell.execute_reply.started": "2024-08-19T07:14:48.422547Z"
    }
   },
   "outputs": [],
   "source": [
    "w2 = torch.randn((100, 27))\n",
    "b2 = torch.randn(27)"
   ]
  },
  {
   "cell_type": "code",
   "execution_count": 141,
   "id": "d38f93a8-73b9-433e-b145-90e388c59022",
   "metadata": {
    "execution": {
     "iopub.execute_input": "2024-08-19T07:14:48.958300Z",
     "iopub.status.busy": "2024-08-19T07:14:48.957932Z",
     "iopub.status.idle": "2024-08-19T07:14:48.971753Z",
     "shell.execute_reply": "2024-08-19T07:14:48.971455Z",
     "shell.execute_reply.started": "2024-08-19T07:14:48.958283Z"
    }
   },
   "outputs": [
    {
     "data": {
      "text/plain": [
       "tensor(43.4051)"
      ]
     },
     "execution_count": 141,
     "metadata": {},
     "output_type": "execute_result"
    }
   ],
   "source": [
    "logits = h @ w2 + b2\n",
    "counts = logits.exp()\n",
    "prob = counts / counts.sum(1, keepdims = True)\n",
    "loss = - prob[torch.arange(32), Y].log().mean()\n",
    "loss"
   ]
  },
  {
   "cell_type": "code",
   "execution_count": 142,
   "id": "d4ad999a-8be6-4bed-bebd-2843d38d1d8a",
   "metadata": {
    "execution": {
     "iopub.execute_input": "2024-08-19T07:14:49.780452Z",
     "iopub.status.busy": "2024-08-19T07:14:49.780074Z",
     "iopub.status.idle": "2024-08-19T07:14:49.783305Z",
     "shell.execute_reply": "2024-08-19T07:14:49.782981Z",
     "shell.execute_reply.started": "2024-08-19T07:14:49.780434Z"
    }
   },
   "outputs": [],
   "source": [
    "g = torch.Generator().manual_seed(2147483647)\n",
    "C= torch.randn((27, 2), generator=g)\n",
    "W1 = torch.randn((30, 100), generator=g)\n",
    "b1 = torch.randn(100, generator=g)\n",
    "W2 = torch.randn((100, 27), generator=g)\n",
    "b2 = torch.randn(27, generator=g)\n",
    "parameters = [C, W1, b1, W2, b2]"
   ]
  },
  {
   "cell_type": "code",
   "execution_count": 143,
   "id": "58bf924d-2d71-4c33-93e6-ca7d8e499da1",
   "metadata": {
    "execution": {
     "iopub.execute_input": "2024-08-19T07:14:50.416282Z",
     "iopub.status.busy": "2024-08-19T07:14:50.415898Z",
     "iopub.status.idle": "2024-08-19T07:14:50.418068Z",
     "shell.execute_reply": "2024-08-19T07:14:50.417752Z",
     "shell.execute_reply.started": "2024-08-19T07:14:50.416263Z"
    }
   },
   "outputs": [],
   "source": [
    "# sum(p.nelement() for p in parameters)"
   ]
  },
  {
   "cell_type": "code",
   "execution_count": 144,
   "id": "c4b4f36c-304a-47c4-bf42-a7624010c84e",
   "metadata": {
    "execution": {
     "iopub.execute_input": "2024-08-19T07:14:51.002432Z",
     "iopub.status.busy": "2024-08-19T07:14:51.002077Z",
     "iopub.status.idle": "2024-08-19T07:14:51.004373Z",
     "shell.execute_reply": "2024-08-19T07:14:51.004054Z",
     "shell.execute_reply.started": "2024-08-19T07:14:51.002413Z"
    }
   },
   "outputs": [],
   "source": [
    "for p in parameters:\n",
    "    p.requires_grad = True"
   ]
  },
  {
   "cell_type": "code",
   "execution_count": 145,
   "id": "cc7e0e79-07d7-4ce1-aa3e-315a3b052702",
   "metadata": {
    "execution": {
     "iopub.execute_input": "2024-08-19T07:14:51.693499Z",
     "iopub.status.busy": "2024-08-19T07:14:51.693159Z",
     "iopub.status.idle": "2024-08-19T07:14:51.695683Z",
     "shell.execute_reply": "2024-08-19T07:14:51.695412Z",
     "shell.execute_reply.started": "2024-08-19T07:14:51.693481Z"
    }
   },
   "outputs": [],
   "source": [
    "lre = torch.linspace(-3, 0, 1000)\n",
    "lrs = 10**lre"
   ]
  },
  {
   "cell_type": "code",
   "execution_count": 146,
   "id": "28c55d76-acd7-4d5a-8c11-48380f2a7c44",
   "metadata": {
    "execution": {
     "iopub.execute_input": "2024-08-19T07:14:52.223918Z",
     "iopub.status.busy": "2024-08-19T07:14:52.223574Z",
     "iopub.status.idle": "2024-08-19T07:14:52.225591Z",
     "shell.execute_reply": "2024-08-19T07:14:52.225339Z",
     "shell.execute_reply.started": "2024-08-19T07:14:52.223905Z"
    }
   },
   "outputs": [],
   "source": [
    "lri = []\n",
    "lossi = []\n",
    "stepi = []"
   ]
  },
  {
   "cell_type": "code",
   "execution_count": 149,
   "id": "1a632029-b1fb-4dd6-b0d3-dd870e60dcbf",
   "metadata": {
    "execution": {
     "iopub.execute_input": "2024-08-19T07:15:22.688972Z",
     "iopub.status.busy": "2024-08-19T07:15:22.688509Z",
     "iopub.status.idle": "2024-08-19T07:15:22.702920Z",
     "shell.execute_reply": "2024-08-19T07:15:22.702616Z",
     "shell.execute_reply.started": "2024-08-19T07:15:22.688936Z"
    }
   },
   "outputs": [
    {
     "ename": "RuntimeError",
     "evalue": "shape '[-1, 30]' is invalid for input of size 192",
     "output_type": "error",
     "traceback": [
      "\u001b[0;31m---------------------------------------------------------------------------\u001b[0m",
      "\u001b[0;31mRuntimeError\u001b[0m                              Traceback (most recent call last)",
      "Cell \u001b[0;32mIn[149], line 7\u001b[0m\n\u001b[1;32m      5\u001b[0m \u001b[38;5;66;03m# foreard pass\u001b[39;00m\n\u001b[1;32m      6\u001b[0m emb \u001b[38;5;241m=\u001b[39m C[train_dataX[ix]]\n\u001b[0;32m----> 7\u001b[0m h \u001b[38;5;241m=\u001b[39m torch\u001b[38;5;241m.\u001b[39mtanh(\u001b[43memb\u001b[49m\u001b[38;5;241;43m.\u001b[39;49m\u001b[43mview\u001b[49m\u001b[43m(\u001b[49m\u001b[38;5;241;43m-\u001b[39;49m\u001b[38;5;241;43m1\u001b[39;49m\u001b[43m,\u001b[49m\u001b[43m \u001b[49m\u001b[38;5;241;43m30\u001b[39;49m\u001b[43m)\u001b[49m \u001b[38;5;241m@\u001b[39m W1 \u001b[38;5;241m+\u001b[39m b1)\n\u001b[1;32m      8\u001b[0m logits \u001b[38;5;241m=\u001b[39m h \u001b[38;5;241m@\u001b[39m W2 \u001b[38;5;241m+\u001b[39m b2\n\u001b[1;32m     10\u001b[0m \u001b[38;5;66;03m# counts = logits.exp()\u001b[39;00m\n\u001b[1;32m     11\u001b[0m \u001b[38;5;66;03m# prob = counts / counts.sum(1, keepdims=True)\u001b[39;00m\n\u001b[1;32m     12\u001b[0m \u001b[38;5;66;03m# loss = - prob[torch.arange(32), Y].log().mean()\u001b[39;00m\n\u001b[1;32m     13\u001b[0m \u001b[38;5;66;03m# loss\u001b[39;00m\n\u001b[1;32m     14\u001b[0m \u001b[38;5;66;03m# 交叉熵\u001b[39;00m\n",
      "\u001b[0;31mRuntimeError\u001b[0m: shape '[-1, 30]' is invalid for input of size 192"
     ]
    }
   ],
   "source": [
    "\n",
    "for i in range(50000):\n",
    "    # minibatch construct\n",
    "    ix = torch.randint(0, train_dataX.shape[0], (32, ))\n",
    "    \n",
    "    # foreard pass\n",
    "    emb = C[train_dataX[ix]]\n",
    "    h = torch.tanh(emb.view(-1, 30) @ W1 + b1)\n",
    "    logits = h @ W2 + b2\n",
    "\n",
    "    # counts = logits.exp()\n",
    "    # prob = counts / counts.sum(1, keepdims=True)\n",
    "    # loss = - prob[torch.arange(32), Y].log().mean()\n",
    "    # loss\n",
    "    # 交叉熵\n",
    "    loss = F.cross_entropy(logits, train_dataY[ix])\n",
    "    # print(loss.item())\n",
    "    \n",
    "    # backward pass\n",
    "    for p in parameters:\n",
    "        p.grad = None\n",
    "    loss.backward()\n",
    "    \n",
    "    # update grad\n",
    "    lr = 0.01\n",
    "    for p in parameters:\n",
    "        p.data += -lr * p.grad\n",
    "\n",
    "    # trace stats\n",
    "    stepi.append(i)\n",
    "    lossi.append(loss.log10().item())\n"
   ]
  },
  {
   "cell_type": "code",
   "execution_count": 110,
   "id": "9f8a3859-b43a-47ba-b171-9ba83b5cfc47",
   "metadata": {
    "execution": {
     "iopub.execute_input": "2024-08-16T08:54:46.158198Z",
     "iopub.status.busy": "2024-08-16T08:54:46.158103Z",
     "iopub.status.idle": "2024-08-16T08:54:46.233264Z",
     "shell.execute_reply": "2024-08-16T08:54:46.232962Z",
     "shell.execute_reply.started": "2024-08-16T08:54:46.158188Z"
    }
   },
   "outputs": [
    {
     "data": {
      "text/plain": [
       "[<matplotlib.lines.Line2D at 0x7fa0310664d0>]"
      ]
     },
     "execution_count": 110,
     "metadata": {},
     "output_type": "execute_result"
    },
    {
     "data": {
      "image/png": "[encoded data removed]",
      "text/plain": [
       "<Figure size 640x480 with 1 Axes>"
      ]
     },
     "metadata": {},
     "output_type": "display_data"
    }
   ],
   "source": [
    "plt.plot(stepi, lossi)"
   ]
  },
  {
   "cell_type": "code",
   "execution_count": 111,
   "id": "5cd8962e-8224-4304-8308-191ae9f17847",
   "metadata": {
    "execution": {
     "iopub.execute_input": "2024-08-16T08:54:49.232767Z",
     "iopub.status.busy": "2024-08-16T08:54:49.232000Z",
     "iopub.status.idle": "2024-08-16T08:54:49.236868Z",
     "shell.execute_reply": "2024-08-16T08:54:49.236538Z",
     "shell.execute_reply.started": "2024-08-16T08:54:49.232748Z"
    }
   },
   "outputs": [
    {
     "data": {
      "text/plain": [
       "tensor(12.8043, grad_fn=<NllLossBackward0>)"
      ]
     },
     "execution_count": 111,
     "metadata": {},
     "output_type": "execute_result"
    }
   ],
   "source": [
    "emb = C[vali_dataX]\n",
    "h = torch.tanh(emb.view(-1, 30) @ W1 + b1)\n",
    "logits = h @ W2 + b2\n",
    "loss = F.cross_entropy(logits, vali_dataY)\n",
    "loss"
   ]
  },
  {
   "cell_type": "code",
   "execution_count": 112,
   "id": "0f11941d-16ad-48b9-be43-4d272e98fe18",
   "metadata": {
    "execution": {
     "iopub.execute_input": "2024-08-16T08:54:52.265250Z",
     "iopub.status.busy": "2024-08-16T08:54:52.264971Z",
     "iopub.status.idle": "2024-08-16T08:54:52.270533Z",
     "shell.execute_reply": "2024-08-16T08:54:52.270208Z",
     "shell.execute_reply.started": "2024-08-16T08:54:52.265231Z"
    }
   },
   "outputs": [
    {
     "data": {
      "text/plain": [
       "tensor(14.4011, grad_fn=<NllLossBackward0>)"
      ]
     },
     "execution_count": 112,
     "metadata": {},
     "output_type": "execute_result"
    }
   ],
   "source": [
    "emb = C[test_dataX]\n",
    "h = torch.tanh(emb.view(-1, 30) @ W1 + b1)\n",
    "logits = h @ W2 + b2\n",
    "loss = F.cross_entropy(logits, test_dataY)\n",
    "loss"
   ]
  },
  {
   "cell_type": "code",
   "execution_count": 116,
   "id": "41b5720c-1ffa-429b-9b8b-c30c6ee71f78",
   "metadata": {
    "execution": {
     "iopub.execute_input": "2024-08-16T08:59:38.585325Z",
     "iopub.status.busy": "2024-08-16T08:59:38.585047Z",
     "iopub.status.idle": "2024-08-16T08:59:38.649790Z",
     "shell.execute_reply": "2024-08-16T08:59:38.649534Z",
     "shell.execute_reply.started": "2024-08-16T08:59:38.585306Z"
    }
   },
   "outputs": [
    {
     "data": {
      "image/png": "[encoded data removed]",
      "text/plain": [
       "<Figure size 800x800 with 1 Axes>"
      ]
     },
     "metadata": {},
     "output_type": "display_data"
    }
   ],
   "source": [
    "plt.figure(figsize=(8,8))\n",
    "plt.scatter(C[:, 0].data, C[:, 1].data, s=200)\n",
    "for i in range(C.shape[0]):\n",
    "    plt.text(C[i, 0].item(), C[i,1].item(), itos[i], ha=\"center\", va=\"center\", color=\"white\")\n",
    "plt.grid(\"minor\")"
   ]
  },
  {
   "cell_type": "code",
   "execution_count": null,
   "id": "4c9a1e89-0d7b-4f6a-a231-84a7ac448dd2",
   "metadata": {},
   "outputs": [],
   "source": []
  }
 ],
 "metadata": {
  "kernelspec": {
   "display_name": "Python 3 (ipykernel)",
   "language": "python",
   "name": "python3"
  },
  "language_info": {
   "codemirror_mode": {
    "name": "ipython",
    "version": 3
   },
   "file_extension": ".py",
   "mimetype": "text/x-python",
   "name": "python",
   "nbconvert_exporter": "python",
   "pygments_lexer": "ipython3",
   "version": "3.10.13"
  }
 },
 "nbformat": 4,
 "nbformat_minor": 5
}
